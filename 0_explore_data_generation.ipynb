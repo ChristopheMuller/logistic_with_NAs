{
 "cells": [
  {
   "cell_type": "code",
   "execution_count": 304,
   "metadata": {},
   "outputs": [],
   "source": [
    "import pandas as pd \n",
    "import numpy as np \n",
    "import matplotlib.pyplot as plt\n",
    "from utils import *"
   ]
  },
  {
   "cell_type": "code",
   "execution_count": 305,
   "metadata": {},
   "outputs": [],
   "source": [
    "import numpy as np\n",
    "\n",
    "def generate_X(d, corr_rate, n):\n",
    "    \"\"\"Generate Gaussian feature matrix X with Toeplitz covariance.\"\"\"\n",
    "    def toep(d, rho):\n",
    "        \"\"\"Generate Toeplitz correlation matrix.\"\"\"\n",
    "        return np.fromfunction(lambda i, j: rho ** np.abs(i - j), (d, d))\n",
    "\n",
    "    cov = toep(d, corr_rate)\n",
    "    X = np.random.multivariate_normal(np.zeros(d), cov, size=n)\n",
    "    return X\n",
    "\n",
    "def adjust_beta(X, target_score=0.5, score_threshold=0.01, max_iter=100, initial_beta_variance=1.0):\n",
    "    \"\"\"\n",
    "    Adjust beta to achieve a desired distribution of probabilities p(y=1).\n",
    "\n",
    "    Parameters:\n",
    "    - X: Feature matrix (n x d)\n",
    "    - target_score: Desired score describing the centering of probabilities around 0.5.\n",
    "    - score_threshold: Threshold for stopping when close enough to the target score.\n",
    "    - max_iter: Maximum number of iterations for adjusting beta.\n",
    "    - initial_beta_variance: Initial variance for beta coefficients.\n",
    "\n",
    "    Returns:\n",
    "    - beta: Adjusted coefficients.\n",
    "    - score_history: History of scores during the adjustment process.\n",
    "    \"\"\"\n",
    "    n, d = X.shape\n",
    "    beta = np.random.normal(0, initial_beta_variance, size=d)\n",
    "    score_history = []\n",
    "\n",
    "    for _ in range(max_iter):\n",
    "        # Compute probabilities\n",
    "        logits = X @ beta\n",
    "        probs = 1 / (1 + np.exp(-logits))\n",
    "\n",
    "        # Compute a score: How \"centered\" the probabilities are around 0.5\n",
    "        score = 4 * np.mean(probs * (1 - probs))  # Peaks at 0.5, decreases at 0 or 1\n",
    "        score_history.append(score)\n",
    "\n",
    "        # Check if the score is close enough to the target\n",
    "        if np.abs(score - target_score) < score_threshold:\n",
    "            break\n",
    "\n",
    "        # Adjust variance of beta to shift the distribution\n",
    "        if score < target_score:\n",
    "            # Probabilities are too extreme (close to 0 or 1), reduce beta variance\n",
    "            beta *= 0.9\n",
    "        else:\n",
    "            # Probabilities are too centered (around 0.5), increase beta variance\n",
    "            beta += np.random.normal(0, 0.1, size=d)\n",
    "\n",
    "    return beta, score_history\n"
   ]
  },
  {
   "cell_type": "code",
   "execution_count": 306,
   "metadata": {},
   "outputs": [],
   "source": [
    "def sigma(x):\n",
    "    return 1 / (1 + np.exp(-x))\n"
   ]
  },
  {
   "cell_type": "code",
   "execution_count": 307,
   "metadata": {},
   "outputs": [],
   "source": [
    "# Parameters\n",
    "d = 5\n",
    "n = 100000\n",
    "corr_rate = 0.2\n",
    "\n",
    "# Generate X\n",
    "X = generate_X(d, corr_rate, n)\n",
    "\n",
    "# Adjust beta to center probabilities near 0.5\n",
    "beta0, score_history = adjust_beta(X, target_score=0.60, score_threshold=0.005)\n",
    "beta1, _ = adjust_beta(X, target_score=0.05, score_threshold=0.0005)\n",
    "beta2, _ = adjust_beta(X, target_score=0.995, score_threshold=0.0001)\n",
    "\n",
    "p0 = sigma(X @ beta0)\n",
    "p1 = sigma(X @ beta1)\n",
    "p2 = sigma(X @ beta2)\n"
   ]
  },
  {
   "cell_type": "code",
   "execution_count": 308,
   "metadata": {},
   "outputs": [
    {
     "data": {
      "image/png": "[encoded data removed]",
      "text/plain": [
       "<Figure size 640x480 with 1 Axes>"
      ]
     },
     "metadata": {},
     "output_type": "display_data"
    }
   ],
   "source": [
    "plt.hist(p1, bins=30, alpha=0.5, label='target=0.1')\n",
    "plt.hist(p0, bins=30, alpha=0.5, label='target=0.5')\n",
    "plt.hist(p2, bins=30, alpha=0.5, label='target=0.9')\n",
    "plt.legend()\n",
    "plt.show()\n"
   ]
  }
 ],
 "metadata": {
  "kernelspec": {
   "display_name": "logistic",
   "language": "python",
   "name": "python3"
  },
  "language_info": {
   "codemirror_mode": {
    "name": "ipython",
    "version": 3
   },
   "file_extension": ".py",
   "mimetype": "text/x-python",
   "name": "python",
   "nbconvert_exporter": "python",
   "pygments_lexer": "ipython3",
   "version": "3.10.15"
  }
 },
 "nbformat": 4,
 "nbformat_minor": 2
}
