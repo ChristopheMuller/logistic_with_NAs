{
 "cells": [
  {
   "cell_type": "code",
   "execution_count": 1,
   "metadata": {},
   "outputs": [
    {
     "name": "stderr",
     "output_type": "stream",
     "text": [
      "c:\\Users\\Chris\\Anaconda3\\envs\\logistic\\lib\\site-packages\\tqdm\\auto.py:21: TqdmWarning: IProgress not found. Please update jupyter and ipywidgets. See https://ipywidgets.readthedocs.io/en/stable/user_install.html\n",
      "  from .autonotebook import tqdm as notebook_tqdm\n"
     ]
    }
   ],
   "source": [
    "import numpy as np\n",
    "import matplotlib.pyplot as plt\n",
    "import pandas as pd\n",
    "import random\n",
    "import os\n",
    "from utils import *\n",
    "from scipy import stats\n",
    "from tqdm.auto import tqdm"
   ]
  },
  {
   "cell_type": "code",
   "execution_count": 2,
   "metadata": {},
   "outputs": [],
   "source": [
    "def generate_X(n, d):\n",
    "\n",
    "    if d != 2:\n",
    "        raise ValueError(\"Only d=2 is supported\")\n",
    "\n",
    "    X = np.zeros((n, d))\n",
    "    X[:,0] = np.random.normal(1.5, 5, n)\n",
    "    X[:,1] = np.random.exponential(7.6275, n) - 7.6275\n",
    "\n",
    "    return X\n",
    "\n",
    "def get_y_prob_bayes_Gaussian(X_m, M, true_beta, n_mc):\n",
    "    \n",
    "    unique_patterns = np.unique(M, axis=0)\n",
    "    \n",
    "    # Preallocate result array\n",
    "    prob_y_all = np.zeros((X_m.shape[0],))\n",
    "\n",
    "    for pattern in unique_patterns:\n",
    "        # Find indices of rows with this missingness pattern\n",
    "        pattern_indices = np.all(M == pattern, axis=1)\n",
    "        X_m_subset = X_m[pattern_indices]\n",
    "        \n",
    "        # Directly reuse get_y_prob_bayes_same_pattern for this subset\n",
    "        prob_y_subset = get_y_prob_bayes_same_pattern_gaussian(X_m_subset, true_beta, n_mc).mean(axis=1)\n",
    "        \n",
    "        # Update the results for this pattern\n",
    "        prob_y_all[pattern_indices] = prob_y_subset\n",
    "    \n",
    "    return prob_y_all\n",
    "\n",
    "\n",
    "def get_y_prob_bayes_same_pattern_gaussian(X_m, true_beta, n_mc):\n",
    "\n",
    "    m = np.isnan(X_m[0,:])\n",
    "    n = X_m.shape[0]\n",
    "\n",
    "    # 1. All observed\n",
    "    if np.sum(m) == 0:\n",
    "        logits = np.dot(X_m, true_beta)\n",
    "        probs = 1 / (1 + np.exp(-logits))\n",
    "        return probs[:, np.newaxis]  # Still 2D, consistent shape\n",
    "\n",
    "    # 2. 1st missing\n",
    "    elif m[0] and not m[1]:\n",
    "        X2 = X_m[:, 1]\n",
    "        obs_logits = X2 * true_beta[1]\n",
    "\n",
    "        mean_probs = np.zeros(n)\n",
    "        batch_size = 1000  # tune depending on memory\n",
    "        for _ in tqdm(range(n_mc // batch_size)):\n",
    "            generated_X1 = np.random.normal(1.5, 5, batch_size)\n",
    "            logits = obs_logits[:, None] + true_beta[0] * generated_X1\n",
    "            mean_probs += np.mean(1 / (1 + np.exp(-logits)), axis=1)\n",
    "        mean_probs /= (n_mc // batch_size)\n",
    "\n",
    "        return mean_probs[:, np.newaxis]\n",
    "\n",
    "    # 3. 2nd missing\n",
    "    elif not m[0] and m[1]:\n",
    "        X1 = X_m[:, 0]\n",
    "        obs_logits = X1 * true_beta[0]\n",
    "\n",
    "        mean_probs = np.zeros(n)\n",
    "        batch_size = 1000  # tune depending on memory\n",
    "        for _ in tqdm(range(n_mc // batch_size)):\n",
    "            generated_X2 = np.random.exponential(7.6275, batch_size) - 7.6275\n",
    "            logits = obs_logits[:, None] + true_beta[1] * generated_X2\n",
    "            mean_probs += np.mean(1 / (1 + np.exp(-logits)), axis=1)\n",
    "        mean_probs /= (n_mc // batch_size)\n",
    "\n",
    "        return mean_probs[:, np.newaxis]\n"
   ]
  },
  {
   "cell_type": "code",
   "execution_count": 3,
   "metadata": {},
   "outputs": [
    {
     "name": "stderr",
     "output_type": "stream",
     "text": [
      "100%|██████████| 1/1 [00:00<00:00, 61.99it/s]\n",
      "  0%|          | 0/1 [00:00<?, ?it/s]"
     ]
    },
    {
     "name": "stderr",
     "output_type": "stream",
     "text": [
      "100%|██████████| 1/1 [00:00<00:00, 77.06it/s]\n"
     ]
    },
    {
     "data": {
      "text/plain": [
       "<matplotlib.collections.PathCollection at 0x21202016c80>"
      ]
     },
     "execution_count": 3,
     "metadata": {},
     "output_type": "execute_result"
    },
    {
     "data": {
      "image/png": "[encoded data removed]",
      "text/plain": [
       "<Figure size 640x480 with 1 Axes>"
      ]
     },
     "metadata": {},
     "output_type": "display_data"
    }
   ],
   "source": [
    "X = generate_X(1000, 2)\n",
    "M = generate_mask(1000, 2, 0.5)\n",
    "true_beta = np.array([1, 1])\n",
    "\n",
    "logits = np.dot(X, true_beta)\n",
    "probs = 1 / (1 + np.exp(-logits))\n",
    "y = np.random.binomial(1, probs)\n",
    "\n",
    "X_m = X.copy()\n",
    "X_m[M == 1] = np.nan\n",
    "\n",
    "n_mc = 1000\n",
    "prob_y_all = get_y_prob_bayes_Gaussian(X_m, M, true_beta, n_mc)\n",
    "\n",
    "idx = get_index_pattern([0,1], M)\n",
    "ord = np.argsort(X[:,0][idx])\n",
    "\n",
    "plt.scatter(X[:,0][idx][ord], prob_y_all[idx][ord], c='blue', label='Observed')"
   ]
  },
  {
   "cell_type": "code",
   "execution_count": null,
   "metadata": {},
   "outputs": [
    {
     "name": "stdout",
     "output_type": "stream",
     "text": [
      "# of setups =  1\n",
      "REP 0\n"
     ]
    },
    {
     "name": "stderr",
     "output_type": "stream",
     "text": [
      "100%|██████████| 10/10 [00:01<00:00,  5.71it/s]\n",
      "100%|██████████| 10/10 [00:01<00:00,  6.53it/s]\n"
     ]
    }
   ],
   "source": [
    "# Define the percentages of missingness and number of replicates\n",
    "\n",
    "experiment_name = \"ExpG_exponential\"\n",
    "experiment_data_folder = os.path.join(\"data\", experiment_name)\n",
    "\n",
    "if os.path.exists(experiment_data_folder) == False:\n",
    "    os.makedirs(experiment_data_folder)\n",
    "\n",
    "if os.path.exists(os.path.join(experiment_data_folder, \"original_data\")) == False:\n",
    "    os.makedirs(os.path.join(experiment_data_folder, \"original_data\"))\n",
    "\n",
    "if os.path.exists(os.path.join(experiment_data_folder, \"test_data\")) == False:\n",
    "    os.makedirs(os.path.join(experiment_data_folder, \"test_data\"))\n",
    "\n",
    "if os.path.exists(os.path.join(experiment_data_folder, \"pred_data\")) == False:\n",
    "    os.makedirs(os.path.join(experiment_data_folder, \"pred_data\"))\n",
    "\n",
    "if os.path.exists(os.path.join(experiment_data_folder, \"bayes_data\")) == False:\n",
    "    os.makedirs(os.path.join(experiment_data_folder, \"bayes_data\"))\n",
    "\n",
    "\n",
    "missingness_percentages = [0.50]\n",
    "n_replicates = 1\n",
    "Ds = [2]\n",
    "n_train = 500000\n",
    "n_test = 15000\n",
    "n = n_train + n_test\n",
    "\n",
    "\n",
    "print(\"# of setups = \", n_replicates * len(missingness_percentages))\n",
    "\n",
    "N_MC = 10000\n",
    "\n",
    "# The set-up dataframe should contain:\n",
    "# - rep\n",
    "# - n\n",
    "# - trueProp1\n",
    "# - true_beta\n",
    "# - center_X\n",
    "# - set_up (name)\n",
    "# [The rest will be part of **kwargs throughout the code]\n",
    "\n",
    "df_set_up = pd.DataFrame({\n",
    "    \"rep\":[],\n",
    "    \"n\":[],\n",
    "    \"true_beta\": [],\n",
    "    \"set_up\": [],\n",
    "    \"d\":[],\n",
    "}).T\n",
    "\n",
    "# np.random.seed(1)\n",
    "# random.seed(1)\n",
    "\n",
    "for rep in range(n_replicates):\n",
    "    print(\"REP\", rep)\n",
    "    for d in Ds:\n",
    "\n",
    "        beta0 = np.array([1,1])\n",
    "\n",
    "        X_full = generate_X(n, d)\n",
    "        y_probs = sigma(X_full @ beta0)\n",
    "        y = np.random.binomial(n=1, p=y_probs)\n",
    "        \n",
    "        for prc in missingness_percentages:\n",
    "\n",
    "            prc_str = str(prc).replace(\".\", \"\")\n",
    "            set_up = f\"LOG_n{n}_d{d}_prcNA{prc_str}_rep{rep}\"\n",
    "\n",
    "            M = generate_mask(n, d, prc) # don't allow fully missing\n",
    "            \n",
    "            X_obs = X_full.copy()\n",
    "            X_obs[M == 1] = np.nan\n",
    "\n",
    "\n",
    "            new_row = pd.Series({\n",
    "                \"rep\":rep,\n",
    "                \"n\":n,\n",
    "                \"d\":d,\n",
    "                \"prcNA\":prc,\n",
    "                \"true_beta\":beta0,\n",
    "                \"set_up\":set_up\n",
    "            })\n",
    "\n",
    "            df_set_up = pd.concat([df_set_up, new_row], axis=1, ignore_index=True)\n",
    "\n",
    "            data_to_save = {\n",
    "                \"X_obs\": X_obs,\n",
    "                \"M\": M,\n",
    "                \"y\": y,\n",
    "                \"y_probs\": y_probs,\n",
    "                \"X_full\": X_full\n",
    "            }\n",
    "\n",
    "            # save\n",
    "            np.savez(os.path.join(experiment_data_folder, \"original_data\", f\"{set_up}.npz\"), **data_to_save)\n",
    "\n",
    "            # test data\n",
    "            X_test = X_obs[n_train:]\n",
    "            y_test = y[n_train:]\n",
    "            y_probs_test = y_probs[n_train:]\n",
    "            M_test = M[n_train:]\n",
    "            data_to_save_test = {\n",
    "                \"X_obs\": X_test,\n",
    "                \"M\": M_test,\n",
    "                \"y\": y_test,\n",
    "                \"y_probs\": y_probs_test,\n",
    "                \"X_full\": X_full[n_train:]\n",
    "            }\n",
    "            np.savez(os.path.join(experiment_data_folder, \"test_data\", f\"{set_up}.npz\"), **data_to_save_test)\n",
    "\n",
    "            y_probs_bayes = get_y_prob_bayes_Gaussian(X_test, M_test, beta0, N_MC)\n",
    "\n",
    "            data_to_save_bayes = {\n",
    "                \"y_probs_bayes\": y_probs_bayes\n",
    "            }\n",
    "\n",
    "            np.savez(os.path.join(experiment_data_folder, \"bayes_data\", f\"{set_up}.npz\"), **data_to_save_bayes)\n",
    "\n",
    "                    \n",
    "# save df set-up\n",
    "df_set_up.T.to_csv(os.path.join(experiment_data_folder, \"set_up.csv\"), index=False)"
   ]
  },
  {
   "cell_type": "code",
   "execution_count": 5,
   "metadata": {},
   "outputs": [
    {
     "data": {
      "text/plain": [
       "<matplotlib.collections.PathCollection at 0x212020f84c0>"
      ]
     },
     "execution_count": 5,
     "metadata": {},
     "output_type": "execute_result"
    },
    {
     "data": {
      "image/png": "[encoded data removed]",
      "text/plain": [
       "<Figure size 640x480 with 1 Axes>"
      ]
     },
     "metadata": {},
     "output_type": "display_data"
    }
   ],
   "source": [
    "bayes = load_data(\"LOG_n515000_d2_prcNA05_rep0\", \"bayes\", \"ExpG_Exponential\")\n",
    "prob_y_all = bayes[\"y_probs_bayes\"]\n",
    "\n",
    "test = load_data(\"LOG_n515000_d2_prcNA05_rep0\", \"test\", \"ExpG_Exponential\")\n",
    "X_test = test[\"X_obs\"]\n",
    "M = test[\"M\"]\n",
    "\n",
    "idx = get_index_pattern([0,1], M)\n",
    "ord = np.argsort(X_test[:,0][idx])\n",
    "\n",
    "plt.scatter(X_test[:,0][idx][ord], prob_y_all[idx][ord], c='blue', label='Observed', s=1)"
   ]
  }
 ],
 "metadata": {
  "kernelspec": {
   "display_name": "logistic",
   "language": "python",
   "name": "python3"
  },
  "language_info": {
   "codemirror_mode": {
    "name": "ipython",
    "version": 3
   },
   "file_extension": ".py",
   "mimetype": "text/x-python",
   "name": "python",
   "nbconvert_exporter": "python",
   "pygments_lexer": "ipython3",
   "version": "3.10.15"
  }
 },
 "nbformat": 4,
 "nbformat_minor": 2
}
