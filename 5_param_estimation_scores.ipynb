{
 "cells": [
  {
   "cell_type": "code",
   "execution_count": 55,
   "metadata": {},
   "outputs": [],
   "source": [
    "from utils import *\n",
    "import numpy as np\n",
    "import pandas as pd\n",
    "import matplotlib.pyplot as plt"
   ]
  },
  {
   "cell_type": "code",
   "execution_count": 56,
   "metadata": {},
   "outputs": [],
   "source": [
    "# load simulation_set_Up\n",
    "\n",
    "exp = \"ExpA\"\n",
    "\n",
    "simulation_set_up = pd.read_csv(os.path.join(\"data\",exp,\"simulation_set_up.csv\"))"
   ]
  },
  {
   "cell_type": "code",
   "execution_count": 57,
   "metadata": {},
   "outputs": [],
   "source": [
    "import re\n",
    "\n",
    "def parse_vector_from_string(s):\n",
    "    \"\"\"Parses a vector stored as a string in a CSV cell.\"\"\"\n",
    "\n",
    "    if pd.isnull(s):\n",
    "        return None\n",
    "    \n",
    "    s = s.strip()\n",
    "    \n",
    "    # Remove brackets if present\n",
    "    s = s.lstrip(\"[\").rstrip(\"]\")\n",
    "    \n",
    "    # Try parsing with commas first\n",
    "    if \",\" in s:\n",
    "        values = [float(x) for x in s.split(\",\")]\n",
    "    else:\n",
    "        # Use regex to extract numbers (handles spaces between numbers)\n",
    "        values = [float(x) for x in re.findall(r\"[-+]?\\d*\\.?\\d+(?:[eE][-+]?\\d+)?\", s)]\n",
    "    \n",
    "    return np.array(values)\n"
   ]
  },
  {
   "cell_type": "code",
   "execution_count": 58,
   "metadata": {},
   "outputs": [],
   "source": [
    "def compute_beta_estimation_error(true_beta, pred_beta, error=\"mse\"):\n",
    "\n",
    "    true_beta = parse_vector_from_string(true_beta)\n",
    "    pred_beta = parse_vector_from_string(pred_beta)\n",
    "\n",
    "    if pred_beta is None:\n",
    "        return None\n",
    "\n",
    "    if error == \"mse\":\n",
    "        return np.mean((np.array(true_beta) - np.array(pred_beta)) ** 2)\n",
    "    \n",
    "    if error == \"angular\":\n",
    "        return np.arccos(np.dot(true_beta, pred_beta) / (np.linalg.norm(true_beta) * np.linalg.norm(pred_beta))) ** 2"
   ]
  },
  {
   "cell_type": "code",
   "execution_count": 59,
   "metadata": {},
   "outputs": [],
   "source": [
    "simulation_set_up[\"angular_error\"] = simulation_set_up.apply(lambda x: compute_beta_estimation_error(x[\"true_beta\"], x[\"pred_beta\"], \"angular\"), axis=1)\n",
    "simulation_set_up[\"mse_error\"] = simulation_set_up.apply(lambda x: compute_beta_estimation_error(x[\"true_beta\"], x[\"pred_beta\"], \"mse\"), axis=1)"
   ]
  },
  {
   "cell_type": "code",
   "execution_count": 60,
   "metadata": {},
   "outputs": [],
   "source": [
    "simulation_set_up.to_csv(os.path.join(\"data\",exp,\"simulation_set_up.csv\"), index=False)"
   ]
  }
 ],
 "metadata": {
  "kernelspec": {
   "display_name": "logistic",
   "language": "python",
   "name": "python3"
  },
  "language_info": {
   "codemirror_mode": {
    "name": "ipython",
    "version": 3
   },
   "file_extension": ".py",
   "mimetype": "text/x-python",
   "name": "python",
   "nbconvert_exporter": "python",
   "pygments_lexer": "ipython3",
   "version": "3.10.15"
  }
 },
 "nbformat": 4,
 "nbformat_minor": 2
}
