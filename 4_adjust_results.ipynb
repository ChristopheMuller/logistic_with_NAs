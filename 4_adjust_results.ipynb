{
 "cells": [
  {
   "cell_type": "code",
   "execution_count": 1,
   "metadata": {},
   "outputs": [
    {
     "name": "stderr",
     "output_type": "stream",
     "text": [
      "c:\\Users\\Chris\\Anaconda3\\envs\\logistic\\lib\\site-packages\\tqdm\\auto.py:21: TqdmWarning: IProgress not found. Please update jupyter and ipywidgets. See https://ipywidgets.readthedocs.io/en/stable/user_install.html\n",
      "  from .autonotebook import tqdm as notebook_tqdm\n"
     ]
    }
   ],
   "source": [
    "import numpy as np\n",
    "import pandas as pd\n",
    "import os\n",
    "\n",
    "from methods import *"
   ]
  },
  {
   "cell_type": "code",
   "execution_count": 2,
   "metadata": {},
   "outputs": [],
   "source": [
    "exp = \"ExpA\"\n",
    "\n",
    "df_set_up = pd.read_csv(os.path.join(\"data\",exp,\"set_up.csv\"))\n",
    "df_simulations = pd.read_csv(os.path.join(\"data\",exp,\"simulation.csv\"))"
   ]
  },
  {
   "cell_type": "code",
   "execution_count": 3,
   "metadata": {},
   "outputs": [],
   "source": [
    "# are there some cols of set_up not in simulations\n",
    "if not np.all([df_set_up.columns[i] in df_simulations.columns for i in range(len(df_set_up.columns))]):\n",
    "    df_simulations_enlarged = pd.merge(left=df_simulations, right=df_set_up, on=\"set_up\")"
   ]
  },
  {
   "cell_type": "code",
   "execution_count": 4,
   "metadata": {},
   "outputs": [],
   "source": [
    "import ast\n",
    "def deal_with_estimated_beta(beta_str, method, d=5):\n",
    "\n",
    "    if type(beta_str) != str:\n",
    "        return None\n",
    "\n",
    "    beta_list = ast.literal_eval(beta_str)\n",
    "\n",
    "    if len(beta_list[0]) == d:\n",
    "        return beta_list[0]\n",
    "    \n",
    "    if len(beta_list[0]) == 2*d:\n",
    "        return beta_list[0][:d]\n",
    "    \n",
    "    else:\n",
    "        raise ValueError(f\"The length of beta_list is not 5 or 10 -- Method {method}\")\n"
   ]
  },
  {
   "cell_type": "code",
   "execution_count": 5,
   "metadata": {},
   "outputs": [],
   "source": [
    "df_simulations_enlarged[\"pred_beta\"] = df_simulations_enlarged.apply(lambda x: deal_with_estimated_beta(x[\"estimated_beta\"], x[\"method\"], d=x[\"d\"]), axis=1)"
   ]
  },
  {
   "cell_type": "code",
   "execution_count": 6,
   "metadata": {},
   "outputs": [],
   "source": [
    "\n",
    "df_simulations_enlarged.to_csv(os.path.join(\"data\",exp,\"simulation_set_up.csv\"), index=False)"
   ]
  },
  {
   "cell_type": "code",
   "execution_count": 7,
   "metadata": {},
   "outputs": [],
   "source": [
    "##########################################\n",
    "## Remove index col from simulation.csv ##\n",
    "##########################################\n",
    "\n",
    "# df_simulations = pd.read_csv(os.path.join(\"data\",exp,\"simulation.csv\"))\n",
    "# df_simulations.drop(df_simulations.columns[[0]], axis=1, inplace=True)\n",
    "# print(df_simulations.head())\n",
    "# df_simulations.to_csv(os.path.join(\"data\",exp,\"simulation.csv\"), index=False)"
   ]
  },
  {
   "cell_type": "code",
   "execution_count": 8,
   "metadata": {},
   "outputs": [],
   "source": [
    "#########################\n",
    "## Remove some results ##\n",
    "#########################\n",
    "\n",
    "method = [\"PY.SAEM\"]\n",
    "n_train = None\n",
    "exp = \"ExpA\"\n",
    "\n",
    "\n",
    "def filter_simulations(method, n_train, exp):\n",
    "\n",
    "    df_simulations_temp = pd.read_csv(os.path.join(\"data\",exp,\"simulation.csv\"))\n",
    "    df_simulations_copy = df_simulations_temp.copy()\n",
    "    all_n_train = df_simulations_temp[\"n_train\"].unique()\n",
    "    if n_train is None:\n",
    "        n_train = all_n_train\n",
    "\n",
    "    df_simulations_temp = df_simulations_temp[df_simulations_temp[\"n_train\"].isin(n_train)]\n",
    "    df_simulations_temp = df_simulations_temp[df_simulations_temp[\"method\"].isin(method)]\n",
    "\n",
    "    for i, row in df_simulations_temp.iterrows():\n",
    "        file_name = row[\"file_name\"]\n",
    "\n",
    "        # delete the file\n",
    "        if os.path.exists(os.path.join(\"data\",exp,\"pred_data\", f\"{file_name}.npz\")):\n",
    "            os.remove(os.path.join(\"data\",exp,\"pred_data\", f\"{file_name}.npz\"))\n",
    "\n",
    "        # delete row in the dataframe\n",
    "        df_simulations_copy = df_simulations_copy.drop(i)\n",
    "\n",
    "        print(f\"{i}..Deleted {file_name}\")\n",
    "\n",
    "    df_simulations_copy.to_csv(os.path.join(\"data\",exp,\"simulation.csv\"), index=False)\n",
    "    # print(df_simulations_copy)\n",
    "\n",
    "# filter_simulations(method, n_train, exp)"
   ]
  },
  {
   "cell_type": "code",
   "execution_count": 9,
   "metadata": {},
   "outputs": [],
   "source": [
    "import os\n",
    "import pandas as pd\n",
    "\n",
    "# make a copy of all files with characterisitcs\n",
    "method = [\"MICE.100.Y.IMP\"]\n",
    "n_train = None\n",
    "\n",
    "exp = \"ExpA\"\n",
    "# make a copy into the folder\n",
    "folder_goal = os.path.join(\"data\",exp,\"temp2\")\n",
    "\n",
    "if not os.path.exists(folder_goal):\n",
    "    os.makedirs(folder_goal)\n",
    "\n",
    "def copy_files(method, n_train, exp, folder_goal):\n",
    "\n",
    "    df_simulations_temp = pd.read_csv(os.path.join(\"data\",exp,\"simulation.csv\"))\n",
    "    all_n_train = df_simulations_temp[\"n_train\"].unique()\n",
    "    if n_train is None:\n",
    "        n_train = all_n_train\n",
    "\n",
    "    df_simulations_temp = df_simulations_temp[df_simulations_temp[\"n_train\"].isin(n_train)]\n",
    "    df_simulations_temp = df_simulations_temp[df_simulations_temp[\"method\"].isin(method)]\n",
    "\n",
    "    for i, row in df_simulations_temp.iterrows():\n",
    "        file_name = row[\"file_name\"]\n",
    "\n",
    "        # copy the file\n",
    "        if os.path.exists(os.path.join(\"data\",exp,\"temp\", f\"{file_name}.npz\")):\n",
    "            os.system(f\"cp {os.path.join('data',exp,'temp', f'{file_name}.npz')} {os.path.join(folder_goal, f'{file_name}.npz')}\")\n",
    "\n",
    "        print(f\"{i}..Copied {file_name}\")\n",
    "\n",
    "# copy_files(method, n_train, exp, folder_goal)"
   ]
  }
 ],
 "metadata": {
  "kernelspec": {
   "display_name": "logistic",
   "language": "python",
   "name": "python3"
  },
  "language_info": {
   "codemirror_mode": {
    "name": "ipython",
    "version": 3
   },
   "file_extension": ".py",
   "mimetype": "text/x-python",
   "name": "python",
   "nbconvert_exporter": "python",
   "pygments_lexer": "ipython3",
   "version": "3.10.15"
  }
 },
 "nbformat": 4,
 "nbformat_minor": 2
}
