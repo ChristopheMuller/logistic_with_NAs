{
 "cells": [
  {
   "cell_type": "code",
   "execution_count": 1,
   "metadata": {},
   "outputs": [],
   "source": [
    "import numpy as np\n",
    "import matplotlib.pyplot as plt\n",
    "import pandas as pd\n",
    "import random\n",
    "import tqdm\n",
    "import os\n",
    "\n",
    "from methods import *"
   ]
  },
  {
   "cell_type": "code",
   "execution_count": 18,
   "metadata": {},
   "outputs": [],
   "source": [
    "exp = \"ExpA\"\n",
    "\n",
    "df_set_up = pd.read_csv(os.path.join(\"data\",exp,\"set_up.csv\"))\n",
    "df_simulations = pd.read_csv(os.path.join(\"data\",exp,\"simulation.csv\"))"
   ]
  },
  {
   "cell_type": "code",
   "execution_count": null,
   "metadata": {},
   "outputs": [],
   "source": [
    "# are there some cols of set_up not in simulations\n",
    "if not np.all([df_set_up.columns[i] in df_simulations.columns for i in range(len(df_set_up.columns))]):\n",
    "    df_simulations_enlarged = pd.merge(left=df_simulations, right=df_set_up, on=\"set_up\")"
   ]
  },
  {
   "cell_type": "code",
   "execution_count": null,
   "metadata": {},
   "outputs": [],
   "source": [
    "\n",
    "df_simulations_enlarged.to_csv(os.path.join(\"data\",exp,\"simulation_set_up.csv\"))"
   ]
  }
 ],
 "metadata": {
  "kernelspec": {
   "display_name": "logistic",
   "language": "python",
   "name": "python3"
  },
  "language_info": {
   "codemirror_mode": {
    "name": "ipython",
    "version": 3
   },
   "file_extension": ".py",
   "mimetype": "text/x-python",
   "name": "python",
   "nbconvert_exporter": "python",
   "pygments_lexer": "ipython3",
   "version": "3.10.15"
  }
 },
 "nbformat": 4,
 "nbformat_minor": 2
}
